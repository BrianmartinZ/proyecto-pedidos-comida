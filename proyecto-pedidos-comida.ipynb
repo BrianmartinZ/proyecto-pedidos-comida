{
 "cells": [
  {
   "cell_type": "markdown",
   "metadata": {},
   "source": [
    "### Análisis de pedidos de comida.\n",
    "\n",
    "A continuación analizaremos 21.321 registros de pedidos de comida para diversos restaurantes. En concreto, nos interesa responder a las siguientes preguntas:\n",
    "\n",
    "1. ¿En qué horarios se concentran más pedidos?\n",
    "\n",
    "2. ¿Qué días de la semana se realizan más pedidos y cuáles menos?\n",
    "\n",
    "3.  ¿Comó son los tiempos de espera en relación con la distancia? \n",
    "\n",
    "\n",
    "Está información será fundamental para que el gestionamientos del personal sea lo más efectivo posible."
   ]
  },
  {
   "cell_type": "markdown",
   "metadata": {},
   "source": [
    "---"
   ]
  },
  {
   "cell_type": "markdown",
   "metadata": {},
   "source": [
    "### Importamos las librerias necesarias"
   ]
  },
  {
   "cell_type": "code",
   "execution_count": null,
   "metadata": {},
   "outputs": [],
   "source": [
    "import pandas as pd\n",
    "import seaborn as sns\n",
    "import matplotlib.pyplot as plt\n",
    "import numpy as np"
   ]
  },
  {
   "cell_type": "markdown",
   "metadata": {},
   "source": [
    "---"
   ]
  },
  {
   "cell_type": "markdown",
   "metadata": {},
   "source": [
    "### Etapa 1: Carga y Exploración de Datos"
   ]
  },
  {
   "cell_type": "code",
   "execution_count": null,
   "metadata": {},
   "outputs": [
    {
     "data": {
      "application/vnd.microsoft.datawrangler.viewer.v0+json": {
       "columns": [
        {
         "name": "index",
         "rawType": "int64",
         "type": "integer"
        },
        {
         "name": "Restaurant ID",
         "rawType": "int64",
         "type": "integer"
        },
        {
         "name": "Restaurant name",
         "rawType": "object",
         "type": "string"
        },
        {
         "name": "Subzone",
         "rawType": "object",
         "type": "string"
        },
        {
         "name": "City",
         "rawType": "object",
         "type": "string"
        },
        {
         "name": "Order ID",
         "rawType": "int64",
         "type": "integer"
        },
        {
         "name": "Order Placed At",
         "rawType": "object",
         "type": "string"
        },
        {
         "name": "Order Status",
         "rawType": "object",
         "type": "string"
        },
        {
         "name": "Delivery",
         "rawType": "object",
         "type": "string"
        },
        {
         "name": "Distance",
         "rawType": "object",
         "type": "string"
        },
        {
         "name": "Items in order",
         "rawType": "object",
         "type": "string"
        },
        {
         "name": "Instructions",
         "rawType": "object",
         "type": "unknown"
        },
        {
         "name": "Discount construct",
         "rawType": "object",
         "type": "string"
        },
        {
         "name": "Bill subtotal",
         "rawType": "float64",
         "type": "float"
        },
        {
         "name": "Packaging charges",
         "rawType": "float64",
         "type": "float"
        },
        {
         "name": "Restaurant discount (Promo)",
         "rawType": "float64",
         "type": "float"
        },
        {
         "name": "Restaurant discount (Flat offs, Freebies & others)",
         "rawType": "float64",
         "type": "float"
        },
        {
         "name": "Gold discount",
         "rawType": "float64",
         "type": "float"
        },
        {
         "name": "Brand pack discount",
         "rawType": "float64",
         "type": "float"
        },
        {
         "name": "Total",
         "rawType": "float64",
         "type": "float"
        },
        {
         "name": "Rating",
         "rawType": "float64",
         "type": "float"
        },
        {
         "name": "Review",
         "rawType": "object",
         "type": "unknown"
        },
        {
         "name": "Cancellation / Rejection reason",
         "rawType": "object",
         "type": "unknown"
        },
        {
         "name": "Restaurant compensation (Cancellation)",
         "rawType": "float64",
         "type": "float"
        },
        {
         "name": "Restaurant penalty (Rejection)",
         "rawType": "float64",
         "type": "float"
        },
        {
         "name": "KPT duration (minutes)",
         "rawType": "float64",
         "type": "float"
        },
        {
         "name": "Rider wait time (minutes)",
         "rawType": "float64",
         "type": "float"
        },
        {
         "name": "Order Ready Marked",
         "rawType": "object",
         "type": "string"
        },
        {
         "name": "Customer complaint tag",
         "rawType": "object",
         "type": "unknown"
        },
        {
         "name": "Customer ID",
         "rawType": "object",
         "type": "string"
        }
       ],
       "ref": "489ace08-a269-47ad-8e1e-c5e2768f4b83",
       "rows": [
        [
         "0",
         "20320607",
         "Swaad",
         "Sector 4",
         "Delhi NCR",
         "6168884918",
         "11:38 PM, September 10 2024",
         "Delivered",
         "Zomato Delivery",
         "3km",
         "1 x Grilled Chicken Jamaican Tender, 1 x Grilled Chicken Peri Peri Tangdi",
         null,
         "40% off upto Rs.80",
         "715.0",
         "31.75",
         "80.0",
         "0.0",
         "0.0",
         "0.0",
         "666.75",
         null,
         null,
         null,
         null,
         null,
         "18.35",
         "11.6",
         "Correctly",
         null,
         "5d6c2b96db963098bc69768bea504c8bf46106a8a5178edf91a42e66a8179458"
        ],
        [
         "1",
         "20320607",
         "Swaad",
         "Sector 4",
         "Delhi NCR",
         "6170707559",
         "11:34 PM, September 10 2024",
         "Delivered",
         "Zomato Delivery",
         "2km",
         "1 x Peri Peri Fries, 1 x Fried Chicken Angara Tender, 1 x Grilled Chicken Angara Tender",
         null,
         "Flat Rs.175 off",
         "1179.0",
         "50.2",
         "175.0",
         "0.0",
         "0.0",
         "0.0",
         "1054.2",
         null,
         null,
         null,
         null,
         null,
         "16.95",
         "3.6",
         "Correctly",
         null,
         "0781815deb4a10a574e9fee4fa0b86b074d4a0b36175d5a626dbc4710568bff4"
        ],
        [
         "2",
         "20320607",
         "Swaad",
         "Sector 4",
         "Delhi NCR",
         "6169375019",
         "03:52 PM, September 10 2024",
         "Delivered",
         "Zomato Delivery",
         "<1km",
         "1 x Bone in Peri Peri Grilled Chicken",
         null,
         "40% off upto Rs.80",
         "310.0",
         "11.5",
         "80.0",
         "0.0",
         "0.0",
         "0.0",
         "241.5",
         null,
         null,
         null,
         null,
         null,
         "14.05",
         "12.2",
         "Correctly",
         null,
         "f93362f5ce5382657482d164e368186bcec9c6225fd93d374453a2e6983151de"
        ],
        [
         "3",
         "20320607",
         "Swaad",
         "Sector 4",
         "Delhi NCR",
         "6151677434",
         "03:45 PM, September 10 2024",
         "Delivered",
         "Zomato Delivery",
         "2km",
         "1 x Fried Chicken Ghostbuster Tender, 1 x Angara Grilled Paneer (8 pcs)",
         null,
         "40% off upto Rs.80",
         "620.0",
         "27.0",
         "80.0",
         "0.0",
         "0.0",
         "0.0",
         "567.0",
         "4.0",
         null,
         null,
         null,
         null,
         "19.0",
         "3.3",
         "Correctly",
         null,
         "1ed226d1b8a5f7acee12fc1d6676558330a3b2b742af5d5c9d3ea550397d49ac"
        ],
        [
         "4",
         "20320607",
         "Swaad",
         "Sector 4",
         "Delhi NCR",
         "6167540897",
         "03:04 PM, September 10 2024",
         "Delivered",
         "Zomato Delivery",
         "2km",
         "1 x Peri Peri Krispers, 1 x Fried Chicken Angara Tender",
         null,
         "40% off upto Rs.80",
         "584.0",
         "25.2",
         "80.0",
         "0.0",
         "0.0",
         "0.0",
         "529.2",
         null,
         null,
         null,
         null,
         null,
         "15.97",
         "1.0",
         "Correctly",
         null,
         "d21a2ac6ea06b31cc3288ab20c4ef2f292066c096f2c5f110a3098eeb39596d9"
        ]
       ],
       "shape": {
        "columns": 29,
        "rows": 5
       }
      },
      "text/html": [
       "<div>\n",
       "<style scoped>\n",
       "    .dataframe tbody tr th:only-of-type {\n",
       "        vertical-align: middle;\n",
       "    }\n",
       "\n",
       "    .dataframe tbody tr th {\n",
       "        vertical-align: top;\n",
       "    }\n",
       "\n",
       "    .dataframe thead th {\n",
       "        text-align: right;\n",
       "    }\n",
       "</style>\n",
       "<table border=\"1\" class=\"dataframe\">\n",
       "  <thead>\n",
       "    <tr style=\"text-align: right;\">\n",
       "      <th></th>\n",
       "      <th>Restaurant ID</th>\n",
       "      <th>Restaurant name</th>\n",
       "      <th>Subzone</th>\n",
       "      <th>City</th>\n",
       "      <th>Order ID</th>\n",
       "      <th>Order Placed At</th>\n",
       "      <th>Order Status</th>\n",
       "      <th>Delivery</th>\n",
       "      <th>Distance</th>\n",
       "      <th>Items in order</th>\n",
       "      <th>...</th>\n",
       "      <th>Rating</th>\n",
       "      <th>Review</th>\n",
       "      <th>Cancellation / Rejection reason</th>\n",
       "      <th>Restaurant compensation (Cancellation)</th>\n",
       "      <th>Restaurant penalty (Rejection)</th>\n",
       "      <th>KPT duration (minutes)</th>\n",
       "      <th>Rider wait time (minutes)</th>\n",
       "      <th>Order Ready Marked</th>\n",
       "      <th>Customer complaint tag</th>\n",
       "      <th>Customer ID</th>\n",
       "    </tr>\n",
       "  </thead>\n",
       "  <tbody>\n",
       "    <tr>\n",
       "      <th>0</th>\n",
       "      <td>20320607</td>\n",
       "      <td>Swaad</td>\n",
       "      <td>Sector 4</td>\n",
       "      <td>Delhi NCR</td>\n",
       "      <td>6168884918</td>\n",
       "      <td>11:38 PM, September 10 2024</td>\n",
       "      <td>Delivered</td>\n",
       "      <td>Zomato Delivery</td>\n",
       "      <td>3km</td>\n",
       "      <td>1 x Grilled Chicken Jamaican Tender, 1 x Grill...</td>\n",
       "      <td>...</td>\n",
       "      <td>NaN</td>\n",
       "      <td>NaN</td>\n",
       "      <td>NaN</td>\n",
       "      <td>NaN</td>\n",
       "      <td>NaN</td>\n",
       "      <td>18.35</td>\n",
       "      <td>11.6</td>\n",
       "      <td>Correctly</td>\n",
       "      <td>NaN</td>\n",
       "      <td>5d6c2b96db963098bc69768bea504c8bf46106a8a5178e...</td>\n",
       "    </tr>\n",
       "    <tr>\n",
       "      <th>1</th>\n",
       "      <td>20320607</td>\n",
       "      <td>Swaad</td>\n",
       "      <td>Sector 4</td>\n",
       "      <td>Delhi NCR</td>\n",
       "      <td>6170707559</td>\n",
       "      <td>11:34 PM, September 10 2024</td>\n",
       "      <td>Delivered</td>\n",
       "      <td>Zomato Delivery</td>\n",
       "      <td>2km</td>\n",
       "      <td>1 x Peri Peri Fries, 1 x Fried Chicken Angara ...</td>\n",
       "      <td>...</td>\n",
       "      <td>NaN</td>\n",
       "      <td>NaN</td>\n",
       "      <td>NaN</td>\n",
       "      <td>NaN</td>\n",
       "      <td>NaN</td>\n",
       "      <td>16.95</td>\n",
       "      <td>3.6</td>\n",
       "      <td>Correctly</td>\n",
       "      <td>NaN</td>\n",
       "      <td>0781815deb4a10a574e9fee4fa0b86b074d4a0b36175d5...</td>\n",
       "    </tr>\n",
       "    <tr>\n",
       "      <th>2</th>\n",
       "      <td>20320607</td>\n",
       "      <td>Swaad</td>\n",
       "      <td>Sector 4</td>\n",
       "      <td>Delhi NCR</td>\n",
       "      <td>6169375019</td>\n",
       "      <td>03:52 PM, September 10 2024</td>\n",
       "      <td>Delivered</td>\n",
       "      <td>Zomato Delivery</td>\n",
       "      <td>&lt;1km</td>\n",
       "      <td>1 x Bone in Peri Peri Grilled Chicken</td>\n",
       "      <td>...</td>\n",
       "      <td>NaN</td>\n",
       "      <td>NaN</td>\n",
       "      <td>NaN</td>\n",
       "      <td>NaN</td>\n",
       "      <td>NaN</td>\n",
       "      <td>14.05</td>\n",
       "      <td>12.2</td>\n",
       "      <td>Correctly</td>\n",
       "      <td>NaN</td>\n",
       "      <td>f93362f5ce5382657482d164e368186bcec9c6225fd93d...</td>\n",
       "    </tr>\n",
       "    <tr>\n",
       "      <th>3</th>\n",
       "      <td>20320607</td>\n",
       "      <td>Swaad</td>\n",
       "      <td>Sector 4</td>\n",
       "      <td>Delhi NCR</td>\n",
       "      <td>6151677434</td>\n",
       "      <td>03:45 PM, September 10 2024</td>\n",
       "      <td>Delivered</td>\n",
       "      <td>Zomato Delivery</td>\n",
       "      <td>2km</td>\n",
       "      <td>1 x Fried Chicken Ghostbuster Tender, 1 x Anga...</td>\n",
       "      <td>...</td>\n",
       "      <td>4.0</td>\n",
       "      <td>NaN</td>\n",
       "      <td>NaN</td>\n",
       "      <td>NaN</td>\n",
       "      <td>NaN</td>\n",
       "      <td>19.00</td>\n",
       "      <td>3.3</td>\n",
       "      <td>Correctly</td>\n",
       "      <td>NaN</td>\n",
       "      <td>1ed226d1b8a5f7acee12fc1d6676558330a3b2b742af5d...</td>\n",
       "    </tr>\n",
       "    <tr>\n",
       "      <th>4</th>\n",
       "      <td>20320607</td>\n",
       "      <td>Swaad</td>\n",
       "      <td>Sector 4</td>\n",
       "      <td>Delhi NCR</td>\n",
       "      <td>6167540897</td>\n",
       "      <td>03:04 PM, September 10 2024</td>\n",
       "      <td>Delivered</td>\n",
       "      <td>Zomato Delivery</td>\n",
       "      <td>2km</td>\n",
       "      <td>1 x Peri Peri Krispers, 1 x Fried Chicken Anga...</td>\n",
       "      <td>...</td>\n",
       "      <td>NaN</td>\n",
       "      <td>NaN</td>\n",
       "      <td>NaN</td>\n",
       "      <td>NaN</td>\n",
       "      <td>NaN</td>\n",
       "      <td>15.97</td>\n",
       "      <td>1.0</td>\n",
       "      <td>Correctly</td>\n",
       "      <td>NaN</td>\n",
       "      <td>d21a2ac6ea06b31cc3288ab20c4ef2f292066c096f2c5f...</td>\n",
       "    </tr>\n",
       "  </tbody>\n",
       "</table>\n",
       "<p>5 rows × 29 columns</p>\n",
       "</div>"
      ],
      "text/plain": [
       "   Restaurant ID Restaurant name   Subzone       City    Order ID  \\\n",
       "0       20320607           Swaad  Sector 4  Delhi NCR  6168884918   \n",
       "1       20320607           Swaad  Sector 4  Delhi NCR  6170707559   \n",
       "2       20320607           Swaad  Sector 4  Delhi NCR  6169375019   \n",
       "3       20320607           Swaad  Sector 4  Delhi NCR  6151677434   \n",
       "4       20320607           Swaad  Sector 4  Delhi NCR  6167540897   \n",
       "\n",
       "               Order Placed At Order Status         Delivery Distance  \\\n",
       "0  11:38 PM, September 10 2024    Delivered  Zomato Delivery      3km   \n",
       "1  11:34 PM, September 10 2024    Delivered  Zomato Delivery      2km   \n",
       "2  03:52 PM, September 10 2024    Delivered  Zomato Delivery     <1km   \n",
       "3  03:45 PM, September 10 2024    Delivered  Zomato Delivery      2km   \n",
       "4  03:04 PM, September 10 2024    Delivered  Zomato Delivery      2km   \n",
       "\n",
       "                                      Items in order  ... Rating Review  \\\n",
       "0  1 x Grilled Chicken Jamaican Tender, 1 x Grill...  ...    NaN    NaN   \n",
       "1  1 x Peri Peri Fries, 1 x Fried Chicken Angara ...  ...    NaN    NaN   \n",
       "2              1 x Bone in Peri Peri Grilled Chicken  ...    NaN    NaN   \n",
       "3  1 x Fried Chicken Ghostbuster Tender, 1 x Anga...  ...    4.0    NaN   \n",
       "4  1 x Peri Peri Krispers, 1 x Fried Chicken Anga...  ...    NaN    NaN   \n",
       "\n",
       "   Cancellation / Rejection reason  Restaurant compensation (Cancellation)  \\\n",
       "0                              NaN                                     NaN   \n",
       "1                              NaN                                     NaN   \n",
       "2                              NaN                                     NaN   \n",
       "3                              NaN                                     NaN   \n",
       "4                              NaN                                     NaN   \n",
       "\n",
       "   Restaurant penalty (Rejection)  KPT duration (minutes)  \\\n",
       "0                             NaN                   18.35   \n",
       "1                             NaN                   16.95   \n",
       "2                             NaN                   14.05   \n",
       "3                             NaN                   19.00   \n",
       "4                             NaN                   15.97   \n",
       "\n",
       "   Rider wait time (minutes)  Order Ready Marked  Customer complaint tag  \\\n",
       "0                       11.6           Correctly                     NaN   \n",
       "1                        3.6           Correctly                     NaN   \n",
       "2                       12.2           Correctly                     NaN   \n",
       "3                        3.3           Correctly                     NaN   \n",
       "4                        1.0           Correctly                     NaN   \n",
       "\n",
       "                                         Customer ID  \n",
       "0  5d6c2b96db963098bc69768bea504c8bf46106a8a5178e...  \n",
       "1  0781815deb4a10a574e9fee4fa0b86b074d4a0b36175d5...  \n",
       "2  f93362f5ce5382657482d164e368186bcec9c6225fd93d...  \n",
       "3  1ed226d1b8a5f7acee12fc1d6676558330a3b2b742af5d...  \n",
       "4  d21a2ac6ea06b31cc3288ab20c4ef2f292066c096f2c5f...  \n",
       "\n",
       "[5 rows x 29 columns]"
      ]
     },
     "execution_count": 2,
     "metadata": {},
     "output_type": "execute_result"
    }
   ],
   "source": [
    "# Cargamos nuestro dataset.\n",
    "url = r\"C:\\Users\\brian\\Desktop\\Proyecto_01\\order_history_kaggle_data.csv\"\n",
    "\n",
    "# Creamos una variable que contenga la ruta.\n",
    "df = pd.read_csv(url)\n",
    "\n",
    "# Imprimimos primeros 5 registros.\n",
    "df.head(5)"
   ]
  },
  {
   "cell_type": "code",
   "execution_count": 3,
   "metadata": {},
   "outputs": [
    {
     "data": {
      "application/vnd.microsoft.datawrangler.viewer.v0+json": {
       "columns": [
        {
         "name": "index",
         "rawType": "object",
         "type": "string"
        },
        {
         "name": "0",
         "rawType": "object",
         "type": "unknown"
        }
       ],
       "ref": "5006ca11-6e8b-443d-a30d-4818b0cfaf8f",
       "rows": [
        [
         "Restaurant ID",
         "int64"
        ],
        [
         "Restaurant name",
         "object"
        ],
        [
         "Subzone",
         "object"
        ],
        [
         "City",
         "object"
        ],
        [
         "Order ID",
         "int64"
        ],
        [
         "Order Placed At",
         "object"
        ],
        [
         "Order Status",
         "object"
        ],
        [
         "Delivery",
         "object"
        ],
        [
         "Distance",
         "object"
        ],
        [
         "Items in order",
         "object"
        ],
        [
         "Instructions",
         "object"
        ],
        [
         "Discount construct",
         "object"
        ],
        [
         "Bill subtotal",
         "float64"
        ],
        [
         "Packaging charges",
         "float64"
        ],
        [
         "Restaurant discount (Promo)",
         "float64"
        ],
        [
         "Restaurant discount (Flat offs, Freebies & others)",
         "float64"
        ],
        [
         "Gold discount",
         "float64"
        ],
        [
         "Brand pack discount",
         "float64"
        ],
        [
         "Total",
         "float64"
        ],
        [
         "Rating",
         "float64"
        ],
        [
         "Review",
         "object"
        ],
        [
         "Cancellation / Rejection reason",
         "object"
        ],
        [
         "Restaurant compensation (Cancellation)",
         "float64"
        ],
        [
         "Restaurant penalty (Rejection)",
         "float64"
        ],
        [
         "KPT duration (minutes)",
         "float64"
        ],
        [
         "Rider wait time (minutes)",
         "float64"
        ],
        [
         "Order Ready Marked",
         "object"
        ],
        [
         "Customer complaint tag",
         "object"
        ],
        [
         "Customer ID",
         "object"
        ]
       ],
       "shape": {
        "columns": 1,
        "rows": 29
       }
      },
      "text/plain": [
       "Restaurant ID                                           int64\n",
       "Restaurant name                                        object\n",
       "Subzone                                                object\n",
       "City                                                   object\n",
       "Order ID                                                int64\n",
       "Order Placed At                                        object\n",
       "Order Status                                           object\n",
       "Delivery                                               object\n",
       "Distance                                               object\n",
       "Items in order                                         object\n",
       "Instructions                                           object\n",
       "Discount construct                                     object\n",
       "Bill subtotal                                         float64\n",
       "Packaging charges                                     float64\n",
       "Restaurant discount (Promo)                           float64\n",
       "Restaurant discount (Flat offs, Freebies & others)    float64\n",
       "Gold discount                                         float64\n",
       "Brand pack discount                                   float64\n",
       "Total                                                 float64\n",
       "Rating                                                float64\n",
       "Review                                                 object\n",
       "Cancellation / Rejection reason                        object\n",
       "Restaurant compensation (Cancellation)                float64\n",
       "Restaurant penalty (Rejection)                        float64\n",
       "KPT duration (minutes)                                float64\n",
       "Rider wait time (minutes)                             float64\n",
       "Order Ready Marked                                     object\n",
       "Customer complaint tag                                 object\n",
       "Customer ID                                            object\n",
       "dtype: object"
      ]
     },
     "execution_count": 3,
     "metadata": {},
     "output_type": "execute_result"
    }
   ],
   "source": [
    "# Verificamos los tipos de datos.\n",
    "df.dtypes"
   ]
  },
  {
   "cell_type": "code",
   "execution_count": 4,
   "metadata": {},
   "outputs": [
    {
     "data": {
      "text/plain": [
       "(21321, 29)"
      ]
     },
     "execution_count": 4,
     "metadata": {},
     "output_type": "execute_result"
    }
   ],
   "source": [
    "# Comprobamos cuantas filas y columnas hay en el df.\n",
    "df.shape\n"
   ]
  },
  {
   "cell_type": "code",
   "execution_count": 5,
   "metadata": {},
   "outputs": [
    {
     "data": {
      "text/plain": [
       "Index(['Restaurant ID', 'Restaurant name', 'Subzone', 'City', 'Order ID',\n",
       "       'Order Placed At', 'Order Status', 'Delivery', 'Distance',\n",
       "       'Items in order', 'Instructions', 'Discount construct', 'Bill subtotal',\n",
       "       'Packaging charges', 'Restaurant discount (Promo)',\n",
       "       'Restaurant discount (Flat offs, Freebies & others)', 'Gold discount',\n",
       "       'Brand pack discount', 'Total', 'Rating', 'Review',\n",
       "       'Cancellation / Rejection reason',\n",
       "       'Restaurant compensation (Cancellation)',\n",
       "       'Restaurant penalty (Rejection)', 'KPT duration (minutes)',\n",
       "       'Rider wait time (minutes)', 'Order Ready Marked',\n",
       "       'Customer complaint tag', 'Customer ID'],\n",
       "      dtype='object')"
      ]
     },
     "execution_count": 5,
     "metadata": {},
     "output_type": "execute_result"
    }
   ],
   "source": [
    "# Columnas disponibles\n",
    "df.columns"
   ]
  },
  {
   "cell_type": "code",
   "execution_count": 6,
   "metadata": {},
   "outputs": [
    {
     "data": {
      "application/vnd.microsoft.datawrangler.viewer.v0+json": {
       "columns": [
        {
         "name": "index",
         "rawType": "object",
         "type": "string"
        },
        {
         "name": "Restaurant ID",
         "rawType": "float64",
         "type": "float"
        },
        {
         "name": "Restaurant name",
         "rawType": "object",
         "type": "unknown"
        },
        {
         "name": "Subzone",
         "rawType": "object",
         "type": "unknown"
        },
        {
         "name": "City",
         "rawType": "object",
         "type": "unknown"
        },
        {
         "name": "Order ID",
         "rawType": "float64",
         "type": "float"
        },
        {
         "name": "Order Placed At",
         "rawType": "object",
         "type": "unknown"
        },
        {
         "name": "Order Status",
         "rawType": "object",
         "type": "unknown"
        },
        {
         "name": "Delivery",
         "rawType": "object",
         "type": "unknown"
        },
        {
         "name": "Distance",
         "rawType": "object",
         "type": "unknown"
        },
        {
         "name": "Items in order",
         "rawType": "object",
         "type": "unknown"
        },
        {
         "name": "Instructions",
         "rawType": "object",
         "type": "unknown"
        },
        {
         "name": "Discount construct",
         "rawType": "object",
         "type": "unknown"
        },
        {
         "name": "Bill subtotal",
         "rawType": "float64",
         "type": "float"
        },
        {
         "name": "Packaging charges",
         "rawType": "float64",
         "type": "float"
        },
        {
         "name": "Restaurant discount (Promo)",
         "rawType": "float64",
         "type": "float"
        },
        {
         "name": "Restaurant discount (Flat offs, Freebies & others)",
         "rawType": "float64",
         "type": "float"
        },
        {
         "name": "Gold discount",
         "rawType": "float64",
         "type": "float"
        },
        {
         "name": "Brand pack discount",
         "rawType": "float64",
         "type": "float"
        },
        {
         "name": "Total",
         "rawType": "float64",
         "type": "float"
        },
        {
         "name": "Rating",
         "rawType": "float64",
         "type": "float"
        },
        {
         "name": "Review",
         "rawType": "object",
         "type": "unknown"
        },
        {
         "name": "Cancellation / Rejection reason",
         "rawType": "object",
         "type": "unknown"
        },
        {
         "name": "Restaurant compensation (Cancellation)",
         "rawType": "float64",
         "type": "float"
        },
        {
         "name": "Restaurant penalty (Rejection)",
         "rawType": "float64",
         "type": "float"
        },
        {
         "name": "KPT duration (minutes)",
         "rawType": "float64",
         "type": "float"
        },
        {
         "name": "Rider wait time (minutes)",
         "rawType": "float64",
         "type": "float"
        },
        {
         "name": "Order Ready Marked",
         "rawType": "object",
         "type": "unknown"
        },
        {
         "name": "Customer complaint tag",
         "rawType": "object",
         "type": "unknown"
        },
        {
         "name": "Customer ID",
         "rawType": "object",
         "type": "unknown"
        }
       ],
       "ref": "9c52cd8d-59c7-4888-9d36-38d524eff18f",
       "rows": [
        [
         "count",
         "21321.0",
         "21321",
         "21321",
         "21321",
         "21321.0",
         "21321",
         "21321",
         "21321",
         "21321",
         "21321",
         "720",
         "15823",
         "21321.0",
         "21321.0",
         "21321.0",
         "21321.0",
         "21321.0",
         "21321.0",
         "21321.0",
         "2491.0",
         "296",
         "186",
         "133.0",
         "3.0",
         "21026.0",
         "21153.0",
         "21321",
         "469",
         "21321"
        ],
        [
         "unique",
         null,
         "6",
         "8",
         "1",
         null,
         "19114",
         "6",
         "1",
         "22",
         "6123",
         "631",
         "527",
         null,
         null,
         null,
         null,
         null,
         null,
         null,
         null,
         "293",
         "5",
         null,
         null,
         null,
         null,
         "3",
         "5",
         "11607"
        ],
        [
         "top",
         null,
         "Aura Pizzas",
         "Greater Kailash 2 (GK2)",
         "Delhi NCR",
         null,
         "10:34 PM, December 03 2024",
         "Delivered",
         "Zomato Delivery",
         "2km",
         "1 x Bageecha Pizza",
         "Order: Please send cutlery",
         "50% off upto Rs.100",
         null,
         null,
         null,
         null,
         null,
         null,
         null,
         null,
         "Too good",
         "Cancelled by Customer",
         null,
         null,
         null,
         null,
         "Correctly",
         "Non-refunded complaint",
         "c521ccf21e7bb2207c3f08d578b6e028d2c3b25986cb35dd5930ede1d8a643da"
        ],
        [
         "freq",
         null,
         "14548",
         "7380",
         "21321",
         null,
         "5",
         "21131",
         "21321",
         "3558",
         "877",
         "6",
         "3561",
         null,
         null,
         null,
         null,
         null,
         null,
         null,
         null,
         "2",
         "89",
         null,
         null,
         null,
         null,
         "19087",
         "157",
         "61"
        ],
        [
         "mean",
         "20744129.12433751",
         null,
         null,
         null,
         "6354622499.371465",
         null,
         null,
         null,
         null,
         null,
         null,
         null,
         "750.0768378593874",
         "32.564592186107596",
         "65.09181604990384",
         "31.795058393133527",
         "0.09912762065569157",
         "3.0393236714975846",
         "682.6161127526851",
         "4.356884785226817",
         null,
         null,
         "356.40954887218044",
         "0.0",
         "17.3329601445829",
         "4.825069730061929",
         null,
         null,
         null
        ],
        [
         "std",
         "244719.26524903116",
         null,
         null,
         null,
         "123026339.36566438",
         null,
         null,
         null,
         null,
         null,
         null,
         null,
         "498.75942801416903",
         "22.23589847727967",
         "85.4016042381437",
         "131.48709139035694",
         "3.2642608449209543",
         "17.070780002379802",
         "465.3139772403126",
         "1.1814716549537618",
         null,
         null,
         "328.1282400818145",
         "0.0",
         "6.283387709753939",
         "4.98259088896717",
         null,
         null,
         null
        ],
        [
         "min",
         "20320607.0",
         null,
         null,
         null,
         "6086766700.0",
         null,
         null,
         null,
         null,
         null,
         null,
         null,
         "50.0",
         "0.0",
         "0.0",
         "0.0",
         "0.0",
         "0.0",
         "52.5",
         "1.0",
         null,
         null,
         "83.58",
         "0.0",
         "0.0",
         "0.1",
         null,
         null,
         null
        ],
        [
         "25%",
         "20635699.0",
         null,
         null,
         null,
         "6250750783.0",
         null,
         null,
         null,
         null,
         null,
         null,
         null,
         "459.0",
         "18.45",
         "0.0",
         "0.0",
         "0.0",
         "0.0",
         "387.45",
         "4.0",
         null,
         null,
         "191.95",
         "0.0",
         "13.38",
         "1.0",
         null,
         null,
         null
        ],
        [
         "50%",
         "20659868.0",
         null,
         null,
         null,
         "6357714982.0",
         null,
         null,
         null,
         null,
         null,
         null,
         null,
         "629.0",
         "28.45",
         "80.0",
         "0.0",
         "0.0",
         "0.0",
         "597.45",
         "5.0",
         null,
         null,
         "272.58",
         "0.0",
         "16.33",
         "3.1",
         null,
         null,
         null
        ],
        [
         "75%",
         "20882652.0",
         null,
         null,
         null,
         "6456826833.0",
         null,
         null,
         null,
         null,
         null,
         null,
         null,
         "899.0",
         "39.95",
         "100.0",
         "0.0",
         "0.0",
         "0.0",
         "837.9",
         "5.0",
         null,
         null,
         "397.84",
         "0.0",
         "20.05",
         "7.4",
         null,
         null,
         null
        ],
        [
         "max",
         "21523055.0",
         null,
         null,
         null,
         "6573391990.0",
         null,
         null,
         null,
         null,
         null,
         null,
         null,
         "16080.0",
         "603.0",
         "4020.0",
         "7787.0",
         "280.1",
         "554.8",
         "12663.0",
         "5.0",
         null,
         null,
         "3236.98",
         "0.0",
         "90.87",
         "73.8",
         null,
         null,
         null
        ]
       ],
       "shape": {
        "columns": 29,
        "rows": 11
       }
      },
      "text/html": [
       "<div>\n",
       "<style scoped>\n",
       "    .dataframe tbody tr th:only-of-type {\n",
       "        vertical-align: middle;\n",
       "    }\n",
       "\n",
       "    .dataframe tbody tr th {\n",
       "        vertical-align: top;\n",
       "    }\n",
       "\n",
       "    .dataframe thead th {\n",
       "        text-align: right;\n",
       "    }\n",
       "</style>\n",
       "<table border=\"1\" class=\"dataframe\">\n",
       "  <thead>\n",
       "    <tr style=\"text-align: right;\">\n",
       "      <th></th>\n",
       "      <th>Restaurant ID</th>\n",
       "      <th>Restaurant name</th>\n",
       "      <th>Subzone</th>\n",
       "      <th>City</th>\n",
       "      <th>Order ID</th>\n",
       "      <th>Order Placed At</th>\n",
       "      <th>Order Status</th>\n",
       "      <th>Delivery</th>\n",
       "      <th>Distance</th>\n",
       "      <th>Items in order</th>\n",
       "      <th>...</th>\n",
       "      <th>Rating</th>\n",
       "      <th>Review</th>\n",
       "      <th>Cancellation / Rejection reason</th>\n",
       "      <th>Restaurant compensation (Cancellation)</th>\n",
       "      <th>Restaurant penalty (Rejection)</th>\n",
       "      <th>KPT duration (minutes)</th>\n",
       "      <th>Rider wait time (minutes)</th>\n",
       "      <th>Order Ready Marked</th>\n",
       "      <th>Customer complaint tag</th>\n",
       "      <th>Customer ID</th>\n",
       "    </tr>\n",
       "  </thead>\n",
       "  <tbody>\n",
       "    <tr>\n",
       "      <th>count</th>\n",
       "      <td>2.132100e+04</td>\n",
       "      <td>21321</td>\n",
       "      <td>21321</td>\n",
       "      <td>21321</td>\n",
       "      <td>2.132100e+04</td>\n",
       "      <td>21321</td>\n",
       "      <td>21321</td>\n",
       "      <td>21321</td>\n",
       "      <td>21321</td>\n",
       "      <td>21321</td>\n",
       "      <td>...</td>\n",
       "      <td>2491.000000</td>\n",
       "      <td>296</td>\n",
       "      <td>186</td>\n",
       "      <td>133.000000</td>\n",
       "      <td>3.0</td>\n",
       "      <td>21026.000000</td>\n",
       "      <td>21153.000000</td>\n",
       "      <td>21321</td>\n",
       "      <td>469</td>\n",
       "      <td>21321</td>\n",
       "    </tr>\n",
       "    <tr>\n",
       "      <th>unique</th>\n",
       "      <td>NaN</td>\n",
       "      <td>6</td>\n",
       "      <td>8</td>\n",
       "      <td>1</td>\n",
       "      <td>NaN</td>\n",
       "      <td>19114</td>\n",
       "      <td>6</td>\n",
       "      <td>1</td>\n",
       "      <td>22</td>\n",
       "      <td>6123</td>\n",
       "      <td>...</td>\n",
       "      <td>NaN</td>\n",
       "      <td>293</td>\n",
       "      <td>5</td>\n",
       "      <td>NaN</td>\n",
       "      <td>NaN</td>\n",
       "      <td>NaN</td>\n",
       "      <td>NaN</td>\n",
       "      <td>3</td>\n",
       "      <td>5</td>\n",
       "      <td>11607</td>\n",
       "    </tr>\n",
       "    <tr>\n",
       "      <th>top</th>\n",
       "      <td>NaN</td>\n",
       "      <td>Aura Pizzas</td>\n",
       "      <td>Greater Kailash 2 (GK2)</td>\n",
       "      <td>Delhi NCR</td>\n",
       "      <td>NaN</td>\n",
       "      <td>10:34 PM, December 03 2024</td>\n",
       "      <td>Delivered</td>\n",
       "      <td>Zomato Delivery</td>\n",
       "      <td>2km</td>\n",
       "      <td>1 x Bageecha Pizza</td>\n",
       "      <td>...</td>\n",
       "      <td>NaN</td>\n",
       "      <td>Too good</td>\n",
       "      <td>Cancelled by Customer</td>\n",
       "      <td>NaN</td>\n",
       "      <td>NaN</td>\n",
       "      <td>NaN</td>\n",
       "      <td>NaN</td>\n",
       "      <td>Correctly</td>\n",
       "      <td>Non-refunded complaint</td>\n",
       "      <td>c521ccf21e7bb2207c3f08d578b6e028d2c3b25986cb35...</td>\n",
       "    </tr>\n",
       "    <tr>\n",
       "      <th>freq</th>\n",
       "      <td>NaN</td>\n",
       "      <td>14548</td>\n",
       "      <td>7380</td>\n",
       "      <td>21321</td>\n",
       "      <td>NaN</td>\n",
       "      <td>5</td>\n",
       "      <td>21131</td>\n",
       "      <td>21321</td>\n",
       "      <td>3558</td>\n",
       "      <td>877</td>\n",
       "      <td>...</td>\n",
       "      <td>NaN</td>\n",
       "      <td>2</td>\n",
       "      <td>89</td>\n",
       "      <td>NaN</td>\n",
       "      <td>NaN</td>\n",
       "      <td>NaN</td>\n",
       "      <td>NaN</td>\n",
       "      <td>19087</td>\n",
       "      <td>157</td>\n",
       "      <td>61</td>\n",
       "    </tr>\n",
       "    <tr>\n",
       "      <th>mean</th>\n",
       "      <td>2.074413e+07</td>\n",
       "      <td>NaN</td>\n",
       "      <td>NaN</td>\n",
       "      <td>NaN</td>\n",
       "      <td>6.354622e+09</td>\n",
       "      <td>NaN</td>\n",
       "      <td>NaN</td>\n",
       "      <td>NaN</td>\n",
       "      <td>NaN</td>\n",
       "      <td>NaN</td>\n",
       "      <td>...</td>\n",
       "      <td>4.356885</td>\n",
       "      <td>NaN</td>\n",
       "      <td>NaN</td>\n",
       "      <td>356.409549</td>\n",
       "      <td>0.0</td>\n",
       "      <td>17.332960</td>\n",
       "      <td>4.825070</td>\n",
       "      <td>NaN</td>\n",
       "      <td>NaN</td>\n",
       "      <td>NaN</td>\n",
       "    </tr>\n",
       "    <tr>\n",
       "      <th>std</th>\n",
       "      <td>2.447193e+05</td>\n",
       "      <td>NaN</td>\n",
       "      <td>NaN</td>\n",
       "      <td>NaN</td>\n",
       "      <td>1.230263e+08</td>\n",
       "      <td>NaN</td>\n",
       "      <td>NaN</td>\n",
       "      <td>NaN</td>\n",
       "      <td>NaN</td>\n",
       "      <td>NaN</td>\n",
       "      <td>...</td>\n",
       "      <td>1.181472</td>\n",
       "      <td>NaN</td>\n",
       "      <td>NaN</td>\n",
       "      <td>328.128240</td>\n",
       "      <td>0.0</td>\n",
       "      <td>6.283388</td>\n",
       "      <td>4.982591</td>\n",
       "      <td>NaN</td>\n",
       "      <td>NaN</td>\n",
       "      <td>NaN</td>\n",
       "    </tr>\n",
       "    <tr>\n",
       "      <th>min</th>\n",
       "      <td>2.032061e+07</td>\n",
       "      <td>NaN</td>\n",
       "      <td>NaN</td>\n",
       "      <td>NaN</td>\n",
       "      <td>6.086767e+09</td>\n",
       "      <td>NaN</td>\n",
       "      <td>NaN</td>\n",
       "      <td>NaN</td>\n",
       "      <td>NaN</td>\n",
       "      <td>NaN</td>\n",
       "      <td>...</td>\n",
       "      <td>1.000000</td>\n",
       "      <td>NaN</td>\n",
       "      <td>NaN</td>\n",
       "      <td>83.580000</td>\n",
       "      <td>0.0</td>\n",
       "      <td>0.000000</td>\n",
       "      <td>0.100000</td>\n",
       "      <td>NaN</td>\n",
       "      <td>NaN</td>\n",
       "      <td>NaN</td>\n",
       "    </tr>\n",
       "    <tr>\n",
       "      <th>25%</th>\n",
       "      <td>2.063570e+07</td>\n",
       "      <td>NaN</td>\n",
       "      <td>NaN</td>\n",
       "      <td>NaN</td>\n",
       "      <td>6.250751e+09</td>\n",
       "      <td>NaN</td>\n",
       "      <td>NaN</td>\n",
       "      <td>NaN</td>\n",
       "      <td>NaN</td>\n",
       "      <td>NaN</td>\n",
       "      <td>...</td>\n",
       "      <td>4.000000</td>\n",
       "      <td>NaN</td>\n",
       "      <td>NaN</td>\n",
       "      <td>191.950000</td>\n",
       "      <td>0.0</td>\n",
       "      <td>13.380000</td>\n",
       "      <td>1.000000</td>\n",
       "      <td>NaN</td>\n",
       "      <td>NaN</td>\n",
       "      <td>NaN</td>\n",
       "    </tr>\n",
       "    <tr>\n",
       "      <th>50%</th>\n",
       "      <td>2.065987e+07</td>\n",
       "      <td>NaN</td>\n",
       "      <td>NaN</td>\n",
       "      <td>NaN</td>\n",
       "      <td>6.357715e+09</td>\n",
       "      <td>NaN</td>\n",
       "      <td>NaN</td>\n",
       "      <td>NaN</td>\n",
       "      <td>NaN</td>\n",
       "      <td>NaN</td>\n",
       "      <td>...</td>\n",
       "      <td>5.000000</td>\n",
       "      <td>NaN</td>\n",
       "      <td>NaN</td>\n",
       "      <td>272.580000</td>\n",
       "      <td>0.0</td>\n",
       "      <td>16.330000</td>\n",
       "      <td>3.100000</td>\n",
       "      <td>NaN</td>\n",
       "      <td>NaN</td>\n",
       "      <td>NaN</td>\n",
       "    </tr>\n",
       "    <tr>\n",
       "      <th>75%</th>\n",
       "      <td>2.088265e+07</td>\n",
       "      <td>NaN</td>\n",
       "      <td>NaN</td>\n",
       "      <td>NaN</td>\n",
       "      <td>6.456827e+09</td>\n",
       "      <td>NaN</td>\n",
       "      <td>NaN</td>\n",
       "      <td>NaN</td>\n",
       "      <td>NaN</td>\n",
       "      <td>NaN</td>\n",
       "      <td>...</td>\n",
       "      <td>5.000000</td>\n",
       "      <td>NaN</td>\n",
       "      <td>NaN</td>\n",
       "      <td>397.840000</td>\n",
       "      <td>0.0</td>\n",
       "      <td>20.050000</td>\n",
       "      <td>7.400000</td>\n",
       "      <td>NaN</td>\n",
       "      <td>NaN</td>\n",
       "      <td>NaN</td>\n",
       "    </tr>\n",
       "    <tr>\n",
       "      <th>max</th>\n",
       "      <td>2.152306e+07</td>\n",
       "      <td>NaN</td>\n",
       "      <td>NaN</td>\n",
       "      <td>NaN</td>\n",
       "      <td>6.573392e+09</td>\n",
       "      <td>NaN</td>\n",
       "      <td>NaN</td>\n",
       "      <td>NaN</td>\n",
       "      <td>NaN</td>\n",
       "      <td>NaN</td>\n",
       "      <td>...</td>\n",
       "      <td>5.000000</td>\n",
       "      <td>NaN</td>\n",
       "      <td>NaN</td>\n",
       "      <td>3236.980000</td>\n",
       "      <td>0.0</td>\n",
       "      <td>90.870000</td>\n",
       "      <td>73.800000</td>\n",
       "      <td>NaN</td>\n",
       "      <td>NaN</td>\n",
       "      <td>NaN</td>\n",
       "    </tr>\n",
       "  </tbody>\n",
       "</table>\n",
       "<p>11 rows × 29 columns</p>\n",
       "</div>"
      ],
      "text/plain": [
       "        Restaurant ID Restaurant name                  Subzone       City  \\\n",
       "count    2.132100e+04           21321                    21321      21321   \n",
       "unique            NaN               6                        8          1   \n",
       "top               NaN     Aura Pizzas  Greater Kailash 2 (GK2)  Delhi NCR   \n",
       "freq              NaN           14548                     7380      21321   \n",
       "mean     2.074413e+07             NaN                      NaN        NaN   \n",
       "std      2.447193e+05             NaN                      NaN        NaN   \n",
       "min      2.032061e+07             NaN                      NaN        NaN   \n",
       "25%      2.063570e+07             NaN                      NaN        NaN   \n",
       "50%      2.065987e+07             NaN                      NaN        NaN   \n",
       "75%      2.088265e+07             NaN                      NaN        NaN   \n",
       "max      2.152306e+07             NaN                      NaN        NaN   \n",
       "\n",
       "            Order ID             Order Placed At Order Status  \\\n",
       "count   2.132100e+04                       21321        21321   \n",
       "unique           NaN                       19114            6   \n",
       "top              NaN  10:34 PM, December 03 2024    Delivered   \n",
       "freq             NaN                           5        21131   \n",
       "mean    6.354622e+09                         NaN          NaN   \n",
       "std     1.230263e+08                         NaN          NaN   \n",
       "min     6.086767e+09                         NaN          NaN   \n",
       "25%     6.250751e+09                         NaN          NaN   \n",
       "50%     6.357715e+09                         NaN          NaN   \n",
       "75%     6.456827e+09                         NaN          NaN   \n",
       "max     6.573392e+09                         NaN          NaN   \n",
       "\n",
       "               Delivery Distance      Items in order  ...       Rating  \\\n",
       "count             21321    21321               21321  ...  2491.000000   \n",
       "unique                1       22                6123  ...          NaN   \n",
       "top     Zomato Delivery      2km  1 x Bageecha Pizza  ...          NaN   \n",
       "freq              21321     3558                 877  ...          NaN   \n",
       "mean                NaN      NaN                 NaN  ...     4.356885   \n",
       "std                 NaN      NaN                 NaN  ...     1.181472   \n",
       "min                 NaN      NaN                 NaN  ...     1.000000   \n",
       "25%                 NaN      NaN                 NaN  ...     4.000000   \n",
       "50%                 NaN      NaN                 NaN  ...     5.000000   \n",
       "75%                 NaN      NaN                 NaN  ...     5.000000   \n",
       "max                 NaN      NaN                 NaN  ...     5.000000   \n",
       "\n",
       "          Review  Cancellation / Rejection reason  \\\n",
       "count        296                              186   \n",
       "unique       293                                5   \n",
       "top     Too good            Cancelled by Customer   \n",
       "freq           2                               89   \n",
       "mean         NaN                              NaN   \n",
       "std          NaN                              NaN   \n",
       "min          NaN                              NaN   \n",
       "25%          NaN                              NaN   \n",
       "50%          NaN                              NaN   \n",
       "75%          NaN                              NaN   \n",
       "max          NaN                              NaN   \n",
       "\n",
       "        Restaurant compensation (Cancellation)  \\\n",
       "count                               133.000000   \n",
       "unique                                     NaN   \n",
       "top                                        NaN   \n",
       "freq                                       NaN   \n",
       "mean                                356.409549   \n",
       "std                                 328.128240   \n",
       "min                                  83.580000   \n",
       "25%                                 191.950000   \n",
       "50%                                 272.580000   \n",
       "75%                                 397.840000   \n",
       "max                                3236.980000   \n",
       "\n",
       "        Restaurant penalty (Rejection)  KPT duration (minutes)  \\\n",
       "count                              3.0            21026.000000   \n",
       "unique                             NaN                     NaN   \n",
       "top                                NaN                     NaN   \n",
       "freq                               NaN                     NaN   \n",
       "mean                               0.0               17.332960   \n",
       "std                                0.0                6.283388   \n",
       "min                                0.0                0.000000   \n",
       "25%                                0.0               13.380000   \n",
       "50%                                0.0               16.330000   \n",
       "75%                                0.0               20.050000   \n",
       "max                                0.0               90.870000   \n",
       "\n",
       "        Rider wait time (minutes)  Order Ready Marked  Customer complaint tag  \\\n",
       "count                21153.000000               21321                     469   \n",
       "unique                        NaN                   3                       5   \n",
       "top                           NaN           Correctly  Non-refunded complaint   \n",
       "freq                          NaN               19087                     157   \n",
       "mean                     4.825070                 NaN                     NaN   \n",
       "std                      4.982591                 NaN                     NaN   \n",
       "min                      0.100000                 NaN                     NaN   \n",
       "25%                      1.000000                 NaN                     NaN   \n",
       "50%                      3.100000                 NaN                     NaN   \n",
       "75%                      7.400000                 NaN                     NaN   \n",
       "max                     73.800000                 NaN                     NaN   \n",
       "\n",
       "                                              Customer ID  \n",
       "count                                               21321  \n",
       "unique                                              11607  \n",
       "top     c521ccf21e7bb2207c3f08d578b6e028d2c3b25986cb35...  \n",
       "freq                                                   61  \n",
       "mean                                                  NaN  \n",
       "std                                                   NaN  \n",
       "min                                                   NaN  \n",
       "25%                                                   NaN  \n",
       "50%                                                   NaN  \n",
       "75%                                                   NaN  \n",
       "max                                                   NaN  \n",
       "\n",
       "[11 rows x 29 columns]"
      ]
     },
     "execution_count": 6,
     "metadata": {},
     "output_type": "execute_result"
    }
   ],
   "source": [
    "# Ejecutamos una descripción que incluya las variables obj\n",
    "df.describe(include=\"all\")"
   ]
  },
  {
   "cell_type": "code",
   "execution_count": 7,
   "metadata": {},
   "outputs": [
    {
     "name": "stdout",
     "output_type": "stream",
     "text": [
      "<class 'pandas.core.frame.DataFrame'>\n",
      "RangeIndex: 21321 entries, 0 to 21320\n",
      "Data columns (total 29 columns):\n",
      " #   Column                                              Non-Null Count  Dtype  \n",
      "---  ------                                              --------------  -----  \n",
      " 0   Restaurant ID                                       21321 non-null  int64  \n",
      " 1   Restaurant name                                     21321 non-null  object \n",
      " 2   Subzone                                             21321 non-null  object \n",
      " 3   City                                                21321 non-null  object \n",
      " 4   Order ID                                            21321 non-null  int64  \n",
      " 5   Order Placed At                                     21321 non-null  object \n",
      " 6   Order Status                                        21321 non-null  object \n",
      " 7   Delivery                                            21321 non-null  object \n",
      " 8   Distance                                            21321 non-null  object \n",
      " 9   Items in order                                      21321 non-null  object \n",
      " 10  Instructions                                        720 non-null    object \n",
      " 11  Discount construct                                  15823 non-null  object \n",
      " 12  Bill subtotal                                       21321 non-null  float64\n",
      " 13  Packaging charges                                   21321 non-null  float64\n",
      " 14  Restaurant discount (Promo)                         21321 non-null  float64\n",
      " 15  Restaurant discount (Flat offs, Freebies & others)  21321 non-null  float64\n",
      " 16  Gold discount                                       21321 non-null  float64\n",
      " 17  Brand pack discount                                 21321 non-null  float64\n",
      " 18  Total                                               21321 non-null  float64\n",
      " 19  Rating                                              2491 non-null   float64\n",
      " 20  Review                                              296 non-null    object \n",
      " 21  Cancellation / Rejection reason                     186 non-null    object \n",
      " 22  Restaurant compensation (Cancellation)              133 non-null    float64\n",
      " 23  Restaurant penalty (Rejection)                      3 non-null      float64\n",
      " 24  KPT duration (minutes)                              21026 non-null  float64\n",
      " 25  Rider wait time (minutes)                           21153 non-null  float64\n",
      " 26  Order Ready Marked                                  21321 non-null  object \n",
      " 27  Customer complaint tag                              469 non-null    object \n",
      " 28  Customer ID                                         21321 non-null  object \n",
      "dtypes: float64(12), int64(2), object(15)\n",
      "memory usage: 4.7+ MB\n"
     ]
    }
   ],
   "source": [
    "df.info()"
   ]
  },
  {
   "cell_type": "markdown",
   "metadata": {},
   "source": [
    "---"
   ]
  },
  {
   "cell_type": "markdown",
   "metadata": {},
   "source": [
    "### Etapa 2: Limpieza de Datos"
   ]
  },
  {
   "cell_type": "code",
   "execution_count": 8,
   "metadata": {},
   "outputs": [
    {
     "data": {
      "application/vnd.microsoft.datawrangler.viewer.v0+json": {
       "columns": [
        {
         "name": "index",
         "rawType": "object",
         "type": "string"
        },
        {
         "name": "0",
         "rawType": "int64",
         "type": "integer"
        }
       ],
       "ref": "757a2d60-6bfa-446d-b0b2-44ad89fb4341",
       "rows": [
        [
         "Restaurant ID",
         "0"
        ],
        [
         "Restaurant name",
         "0"
        ],
        [
         "Subzone",
         "0"
        ],
        [
         "City",
         "0"
        ],
        [
         "Order ID",
         "0"
        ],
        [
         "Order Placed At",
         "0"
        ],
        [
         "Order Status",
         "0"
        ],
        [
         "Delivery",
         "0"
        ],
        [
         "Distance",
         "0"
        ],
        [
         "Items in order",
         "0"
        ],
        [
         "Instructions",
         "20601"
        ],
        [
         "Discount construct",
         "5498"
        ],
        [
         "Bill subtotal",
         "0"
        ],
        [
         "Packaging charges",
         "0"
        ],
        [
         "Restaurant discount (Promo)",
         "0"
        ],
        [
         "Restaurant discount (Flat offs, Freebies & others)",
         "0"
        ],
        [
         "Gold discount",
         "0"
        ],
        [
         "Brand pack discount",
         "0"
        ],
        [
         "Total",
         "0"
        ],
        [
         "Rating",
         "18830"
        ],
        [
         "Review",
         "21025"
        ],
        [
         "Cancellation / Rejection reason",
         "21135"
        ],
        [
         "Restaurant compensation (Cancellation)",
         "21188"
        ],
        [
         "Restaurant penalty (Rejection)",
         "21318"
        ],
        [
         "KPT duration (minutes)",
         "295"
        ],
        [
         "Rider wait time (minutes)",
         "168"
        ],
        [
         "Order Ready Marked",
         "0"
        ],
        [
         "Customer complaint tag",
         "20852"
        ],
        [
         "Customer ID",
         "0"
        ]
       ],
       "shape": {
        "columns": 1,
        "rows": 29
       }
      },
      "text/plain": [
       "Restaurant ID                                             0\n",
       "Restaurant name                                           0\n",
       "Subzone                                                   0\n",
       "City                                                      0\n",
       "Order ID                                                  0\n",
       "Order Placed At                                           0\n",
       "Order Status                                              0\n",
       "Delivery                                                  0\n",
       "Distance                                                  0\n",
       "Items in order                                            0\n",
       "Instructions                                          20601\n",
       "Discount construct                                     5498\n",
       "Bill subtotal                                             0\n",
       "Packaging charges                                         0\n",
       "Restaurant discount (Promo)                               0\n",
       "Restaurant discount (Flat offs, Freebies & others)        0\n",
       "Gold discount                                             0\n",
       "Brand pack discount                                       0\n",
       "Total                                                     0\n",
       "Rating                                                18830\n",
       "Review                                                21025\n",
       "Cancellation / Rejection reason                       21135\n",
       "Restaurant compensation (Cancellation)                21188\n",
       "Restaurant penalty (Rejection)                        21318\n",
       "KPT duration (minutes)                                  295\n",
       "Rider wait time (minutes)                               168\n",
       "Order Ready Marked                                        0\n",
       "Customer complaint tag                                20852\n",
       "Customer ID                                               0\n",
       "dtype: int64"
      ]
     },
     "execution_count": 8,
     "metadata": {},
     "output_type": "execute_result"
    }
   ],
   "source": [
    "# Revisamos los valores nulos\n",
    "df.isna().sum()"
   ]
  },
  {
   "cell_type": "code",
   "execution_count": 9,
   "metadata": {},
   "outputs": [],
   "source": [
    "# Creamos una copia de nuestra variable original.\n",
    "df_clean = df.copy()"
   ]
  },
  {
   "cell_type": "code",
   "execution_count": 10,
   "metadata": {},
   "outputs": [],
   "source": [
    "# Eliminamos las columnas con valores nulos.\n",
    "df_clean = df_clean.drop([\"Restaurant compensation (Cancellation)\", \"Restaurant penalty (Rejection)\", \"Rating\", \"Review\", \"Cancellation / Rejection reason\", \"Customer complaint tag\", \"Instructions\", \"Discount construct\"], axis=1)"
   ]
  },
  {
   "cell_type": "code",
   "execution_count": null,
   "metadata": {},
   "outputs": [
    {
     "name": "stdout",
     "output_type": "stream",
     "text": [
      "Promedio de kpt: 17.3329601445829\n"
     ]
    }
   ],
   "source": [
    "# Remplazamos valores NaN por la media en los nulos de la columna 'KPT duration'\n",
    "mean_kpt = df_clean['KPT duration (minutes)'].astype('float').mean(axis=0)\n",
    "print('Promedio de kpt:', mean_kpt)"
   ]
  },
  {
   "cell_type": "code",
   "execution_count": 12,
   "metadata": {},
   "outputs": [],
   "source": [
    "df_clean.loc[:, 'KPT duration (minutes)'] = df_clean['KPT duration (minutes)'].replace(np.nan, mean_kpt)"
   ]
  },
  {
   "cell_type": "code",
   "execution_count": null,
   "metadata": {},
   "outputs": [
    {
     "name": "stdout",
     "output_type": "stream",
     "text": [
      "Promedio de rider: 4.825069730061929\n"
     ]
    }
   ],
   "source": [
    "# Hacemos lo mismo para la columna 'Rider wait time (minutes)'\n",
    "mean_rider = df_clean['Rider wait time (minutes)'].astype('float').mean(axis=0)\n",
    "print('Promedio de rider:', mean_rider)"
   ]
  },
  {
   "cell_type": "code",
   "execution_count": 14,
   "metadata": {},
   "outputs": [],
   "source": [
    "df_clean.loc[:, 'Rider wait time (minutes)'] = df_clean['Rider wait time (minutes)'].replace(np.nan, mean_rider)"
   ]
  },
  {
   "cell_type": "code",
   "execution_count": null,
   "metadata": {},
   "outputs": [
    {
     "data": {
      "application/vnd.microsoft.datawrangler.viewer.v0+json": {
       "columns": [
        {
         "name": "index",
         "rawType": "object",
         "type": "string"
        },
        {
         "name": "0",
         "rawType": "int64",
         "type": "integer"
        }
       ],
       "ref": "6f256d4e-1c09-40f1-91ca-f76f0a2d0817",
       "rows": [
        [
         "Restaurant ID",
         "0"
        ],
        [
         "Restaurant name",
         "0"
        ],
        [
         "Subzone",
         "0"
        ],
        [
         "City",
         "0"
        ],
        [
         "Order ID",
         "0"
        ],
        [
         "Order Placed At",
         "0"
        ],
        [
         "Order Status",
         "0"
        ],
        [
         "Delivery",
         "0"
        ],
        [
         "Distance",
         "0"
        ],
        [
         "Items in order",
         "0"
        ],
        [
         "Bill subtotal",
         "0"
        ],
        [
         "Packaging charges",
         "0"
        ],
        [
         "Restaurant discount (Promo)",
         "0"
        ],
        [
         "Restaurant discount (Flat offs, Freebies & others)",
         "0"
        ],
        [
         "Gold discount",
         "0"
        ],
        [
         "Brand pack discount",
         "0"
        ],
        [
         "Total",
         "0"
        ],
        [
         "KPT duration (minutes)",
         "0"
        ],
        [
         "Rider wait time (minutes)",
         "0"
        ],
        [
         "Order Ready Marked",
         "0"
        ],
        [
         "Customer ID",
         "0"
        ]
       ],
       "shape": {
        "columns": 1,
        "rows": 21
       }
      },
      "text/plain": [
       "Restaurant ID                                         0\n",
       "Restaurant name                                       0\n",
       "Subzone                                               0\n",
       "City                                                  0\n",
       "Order ID                                              0\n",
       "Order Placed At                                       0\n",
       "Order Status                                          0\n",
       "Delivery                                              0\n",
       "Distance                                              0\n",
       "Items in order                                        0\n",
       "Bill subtotal                                         0\n",
       "Packaging charges                                     0\n",
       "Restaurant discount (Promo)                           0\n",
       "Restaurant discount (Flat offs, Freebies & others)    0\n",
       "Gold discount                                         0\n",
       "Brand pack discount                                   0\n",
       "Total                                                 0\n",
       "KPT duration (minutes)                                0\n",
       "Rider wait time (minutes)                             0\n",
       "Order Ready Marked                                    0\n",
       "Customer ID                                           0\n",
       "dtype: int64"
      ]
     },
     "execution_count": 15,
     "metadata": {},
     "output_type": "execute_result"
    }
   ],
   "source": [
    "# Revisamos nuevamente para asegurarnos que no haya quedado nulos\n",
    "df_clean.isna().sum()"
   ]
  },
  {
   "cell_type": "markdown",
   "metadata": {},
   "source": [
    "### Funciones necesarias: "
   ]
  },
  {
   "cell_type": "code",
   "execution_count": 17,
   "metadata": {},
   "outputs": [],
   "source": [
    "def dividir_fecha_hora(cadena_f):\n",
    "    '''Divide una cadena en fecha y hora para convertirla en datetime'''\n",
    "    try:\n",
    "        x_tiempo, x_fecha = cadena_f.split(', ')\n",
    "        datetime_new = f\"{x_tiempo} {x_fecha}\"\n",
    "        return pd.to_datetime(datetime_new, format='%I:%M %p %B %d %Y')\n",
    "    except:\n",
    "        return pd.NaT # nan para fechas en panda.\n"
   ]
  },
  {
   "cell_type": "code",
   "execution_count": null,
   "metadata": {},
   "outputs": [],
   "source": [
    "# Aplicamos la funcion en toda la columna\n",
    "df_clean['Order Placed At'] = df_clean['Order Placed At'].apply(dividir_fecha_hora)"
   ]
  },
  {
   "cell_type": "code",
   "execution_count": 19,
   "metadata": {},
   "outputs": [],
   "source": [
    "def clean_distance(distance_value):\n",
    "    '''transforma cadenas como \"<1km\" o \"3km\" en valores numéricos (float), para que se puedan graficar o usar en modelos.'''\n",
    "    if pd.isna(distance_value):\n",
    "        return np.nan\n",
    "    elif '<' in distance_value: # (por ejemplo, \"<1km\")\n",
    "        return 0.5 # la función lo reemplaza con 0.5\n",
    "    else:\n",
    "        return float(distance_value.replace('km', ' ')) # busca el texto 'km' y lo reemplaza con una cadena vacía.\n"
   ]
  },
  {
   "cell_type": "code",
   "execution_count": 20,
   "metadata": {},
   "outputs": [],
   "source": [
    "df_clean['Distance'] = df_clean['Distance'].apply(clean_distance)"
   ]
  },
  {
   "cell_type": "markdown",
   "metadata": {},
   "source": [
    "---"
   ]
  },
  {
   "cell_type": "markdown",
   "metadata": {},
   "source": [
    "### Etapa 3: Exploración de Datos (EDA)"
   ]
  },
  {
   "cell_type": "markdown",
   "metadata": {},
   "source": [
    "#### ¿En qué horarios se concentran más pedidos?\n",
    "\n",
    "##### 1. Pedidos por hora del día"
   ]
  },
  {
   "cell_type": "code",
   "execution_count": 24,
   "metadata": {},
   "outputs": [
    {
     "data": {
      "image/png": "[encoded data removed]",
      "text/plain": [
       "<Figure size 640x480 with 1 Axes>"
      ]
     },
     "metadata": {},
     "output_type": "display_data"
    }
   ],
   "source": [
    "df_clean['Hora'] = df_clean['Order Placed At'].dt.hour # Extraemos la hora de la columna 'Order Placed At'\n",
    "sns.countplot(data=df_clean, x='Hora')\n",
    "plt.title('Pedidos por hora del día')\n",
    "plt.ylabel('Cantidad de pedidos')\n",
    "plt.show()"
   ]
  },
  {
   "cell_type": "markdown",
   "metadata": {},
   "source": [
    "Se observa que la mayoría de los pedidos se concentran entre las 19:00 y las 21:00 horas. Por lo tanto, sería recomendable que los restaurantes refuercen su personal durante este rango horario para optimizar la atención y los tiempos de entrega."
   ]
  },
  {
   "cell_type": "markdown",
   "metadata": {},
   "source": [
    "---"
   ]
  },
  {
   "cell_type": "markdown",
   "metadata": {},
   "source": [
    "#### ¿Qué días de la semana se realizan más pedidos y cuáles menos?\n",
    "\n",
    "##### 2. Pedidos por día de la semana.\n",
    "\n"
   ]
  },
  {
   "cell_type": "code",
   "execution_count": 25,
   "metadata": {},
   "outputs": [
    {
     "data": {
      "image/png": "[encoded data removed]",
      "text/plain": [
       "<Figure size 640x480 with 1 Axes>"
      ]
     },
     "metadata": {},
     "output_type": "display_data"
    }
   ],
   "source": [
    "df_clean['Día'] = df_clean['Order Placed At'].dt.day_name()\n",
    "sns.countplot(data=df_clean, x='Día', order=['Monday','Tuesday','Wednesday','Thursday','Friday','Saturday','Sunday'])\n",
    "plt.xticks(ticks=[0,1,2,3,4,5,6], labels=['Lunes','Martes','Miércoles','Jueves','Viernes','Sábado','Domingo'], rotation=45)\n",
    "plt.title('Pedidos por día de la semana')\n",
    "plt.ylabel('Cantidad de pedidos')\n",
    "plt.show()"
   ]
  },
  {
   "cell_type": "markdown",
   "metadata": {},
   "source": [
    "Como se puede observar en el gráfico, los lunes presentan la menor cantidad de pedidos, mientras que los viernes, sábados y domingos concentran la mayor demanda. \n",
    "Esto indica que la actividad laboral en los servicios de entrega debería reforzarse especialmente durante el fin de semana."
   ]
  },
  {
   "cell_type": "markdown",
   "metadata": {},
   "source": [
    "---"
   ]
  },
  {
   "cell_type": "markdown",
   "metadata": {},
   "source": [
    "#### ¿Comó son los tiempos de espera en relación con la distancia? \n",
    "\n",
    "##### 3. Relación entre distancia y tiempo de espera."
   ]
  },
  {
   "cell_type": "code",
   "execution_count": 23,
   "metadata": {},
   "outputs": [
    {
     "data": {
      "image/png": "[encoded data removed]",
      "text/plain": [
       "<Figure size 640x480 with 1 Axes>"
      ]
     },
     "metadata": {},
     "output_type": "display_data"
    }
   ],
   "source": [
    "\n",
    "sns.scatterplot(data=df_clean, x='Distance', y='Rider wait time (minutes)')\n",
    "plt.title('Distancia vs Tiempo de espera')\n",
    "plt.xlabel('Distancia (km)')\n",
    "plt.ylabel('Tiempo de espera (minutos)')\n",
    "plt.show()"
   ]
  },
  {
   "cell_type": "markdown",
   "metadata": {},
   "source": [
    "En distancias cortas, se registran mayores tiempos de espera, mientras que en las distancias largas, los tiempos tienden a ser menores. Esto podría indicar que los pedidos lejanos son gestionados con mayor eficiencia logística que los pedidos cercanos, quizas por tener menor prioridad o una preparación más relajada."
   ]
  },
  {
   "cell_type": "markdown",
   "metadata": {},
   "source": [
    "---"
   ]
  },
  {
   "cell_type": "markdown",
   "metadata": {},
   "source": []
  }
 ],
 "metadata": {
  "kernelspec": {
   "display_name": "entorno_v_fdo",
   "language": "python",
   "name": "python3"
  },
  "language_info": {
   "codemirror_mode": {
    "name": "ipython",
    "version": 3
   },
   "file_extension": ".py",
   "mimetype": "text/x-python",
   "name": "python",
   "nbconvert_exporter": "python",
   "pygments_lexer": "ipython3",
   "version": "3.13.1"
  }
 },
 "nbformat": 4,
 "nbformat_minor": 2
}
